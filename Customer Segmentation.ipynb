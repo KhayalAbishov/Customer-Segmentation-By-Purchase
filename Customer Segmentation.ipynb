{
 "cells": [
  {
   "cell_type": "code",
   "execution_count": 1,
   "id": "68fc0a0a",
   "metadata": {},
   "outputs": [],
   "source": [
    "import numpy as np\n",
    "import matplotlib.pyplot as plt\n",
    "import pandas as pd\n",
    "import seaborn as sns"
   ]
  },
  {
   "cell_type": "code",
   "execution_count": 2,
   "id": "e19f2662",
   "metadata": {
    "scrolled": true
   },
   "outputs": [
    {
     "data": {
      "text/html": [
       "<div>\n",
       "<style scoped>\n",
       "    .dataframe tbody tr th:only-of-type {\n",
       "        vertical-align: middle;\n",
       "    }\n",
       "\n",
       "    .dataframe tbody tr th {\n",
       "        vertical-align: top;\n",
       "    }\n",
       "\n",
       "    .dataframe thead th {\n",
       "        text-align: right;\n",
       "    }\n",
       "</style>\n",
       "<table border=\"1\" class=\"dataframe\">\n",
       "  <thead>\n",
       "    <tr style=\"text-align: right;\">\n",
       "      <th></th>\n",
       "      <th>CUST_ID</th>\n",
       "      <th>BALANCE</th>\n",
       "      <th>BALANCE_FREQUENCY</th>\n",
       "      <th>PURCHASES</th>\n",
       "      <th>ONEOFF_PURCHASES</th>\n",
       "      <th>INSTALLMENTS_PURCHASES</th>\n",
       "      <th>CASH_ADVANCE</th>\n",
       "      <th>PURCHASES_FREQUENCY</th>\n",
       "      <th>ONEOFF_PURCHASES_FREQUENCY</th>\n",
       "      <th>PURCHASES_INSTALLMENTS_FREQUENCY</th>\n",
       "      <th>CASH_ADVANCE_FREQUENCY</th>\n",
       "      <th>CASH_ADVANCE_TRX</th>\n",
       "      <th>PURCHASES_TRX</th>\n",
       "      <th>CREDIT_LIMIT</th>\n",
       "      <th>PAYMENTS</th>\n",
       "      <th>MINIMUM_PAYMENTS</th>\n",
       "      <th>PRC_FULL_PAYMENT</th>\n",
       "      <th>TENURE</th>\n",
       "    </tr>\n",
       "  </thead>\n",
       "  <tbody>\n",
       "    <tr>\n",
       "      <th>0</th>\n",
       "      <td>C10001</td>\n",
       "      <td>40.900749</td>\n",
       "      <td>0.818182</td>\n",
       "      <td>95.40</td>\n",
       "      <td>0.00</td>\n",
       "      <td>95.40</td>\n",
       "      <td>0.000000</td>\n",
       "      <td>0.166667</td>\n",
       "      <td>0.000000</td>\n",
       "      <td>0.083333</td>\n",
       "      <td>0.000000</td>\n",
       "      <td>0</td>\n",
       "      <td>2</td>\n",
       "      <td>1000.0</td>\n",
       "      <td>201.802084</td>\n",
       "      <td>139.509787</td>\n",
       "      <td>0.000000</td>\n",
       "      <td>12</td>\n",
       "    </tr>\n",
       "    <tr>\n",
       "      <th>1</th>\n",
       "      <td>C10002</td>\n",
       "      <td>3202.467416</td>\n",
       "      <td>0.909091</td>\n",
       "      <td>0.00</td>\n",
       "      <td>0.00</td>\n",
       "      <td>0.00</td>\n",
       "      <td>6442.945483</td>\n",
       "      <td>0.000000</td>\n",
       "      <td>0.000000</td>\n",
       "      <td>0.000000</td>\n",
       "      <td>0.250000</td>\n",
       "      <td>4</td>\n",
       "      <td>0</td>\n",
       "      <td>7000.0</td>\n",
       "      <td>4103.032597</td>\n",
       "      <td>1072.340217</td>\n",
       "      <td>0.222222</td>\n",
       "      <td>12</td>\n",
       "    </tr>\n",
       "    <tr>\n",
       "      <th>2</th>\n",
       "      <td>C10003</td>\n",
       "      <td>2495.148862</td>\n",
       "      <td>1.000000</td>\n",
       "      <td>773.17</td>\n",
       "      <td>773.17</td>\n",
       "      <td>0.00</td>\n",
       "      <td>0.000000</td>\n",
       "      <td>1.000000</td>\n",
       "      <td>1.000000</td>\n",
       "      <td>0.000000</td>\n",
       "      <td>0.000000</td>\n",
       "      <td>0</td>\n",
       "      <td>12</td>\n",
       "      <td>7500.0</td>\n",
       "      <td>622.066742</td>\n",
       "      <td>627.284787</td>\n",
       "      <td>0.000000</td>\n",
       "      <td>12</td>\n",
       "    </tr>\n",
       "    <tr>\n",
       "      <th>4</th>\n",
       "      <td>C10005</td>\n",
       "      <td>817.714335</td>\n",
       "      <td>1.000000</td>\n",
       "      <td>16.00</td>\n",
       "      <td>16.00</td>\n",
       "      <td>0.00</td>\n",
       "      <td>0.000000</td>\n",
       "      <td>0.083333</td>\n",
       "      <td>0.083333</td>\n",
       "      <td>0.000000</td>\n",
       "      <td>0.000000</td>\n",
       "      <td>0</td>\n",
       "      <td>1</td>\n",
       "      <td>1200.0</td>\n",
       "      <td>678.334763</td>\n",
       "      <td>244.791237</td>\n",
       "      <td>0.000000</td>\n",
       "      <td>12</td>\n",
       "    </tr>\n",
       "    <tr>\n",
       "      <th>5</th>\n",
       "      <td>C10006</td>\n",
       "      <td>1809.828751</td>\n",
       "      <td>1.000000</td>\n",
       "      <td>1333.28</td>\n",
       "      <td>0.00</td>\n",
       "      <td>1333.28</td>\n",
       "      <td>0.000000</td>\n",
       "      <td>0.666667</td>\n",
       "      <td>0.000000</td>\n",
       "      <td>0.583333</td>\n",
       "      <td>0.000000</td>\n",
       "      <td>0</td>\n",
       "      <td>8</td>\n",
       "      <td>1800.0</td>\n",
       "      <td>1400.057770</td>\n",
       "      <td>2407.246035</td>\n",
       "      <td>0.000000</td>\n",
       "      <td>12</td>\n",
       "    </tr>\n",
       "    <tr>\n",
       "      <th>...</th>\n",
       "      <td>...</td>\n",
       "      <td>...</td>\n",
       "      <td>...</td>\n",
       "      <td>...</td>\n",
       "      <td>...</td>\n",
       "      <td>...</td>\n",
       "      <td>...</td>\n",
       "      <td>...</td>\n",
       "      <td>...</td>\n",
       "      <td>...</td>\n",
       "      <td>...</td>\n",
       "      <td>...</td>\n",
       "      <td>...</td>\n",
       "      <td>...</td>\n",
       "      <td>...</td>\n",
       "      <td>...</td>\n",
       "      <td>...</td>\n",
       "      <td>...</td>\n",
       "    </tr>\n",
       "    <tr>\n",
       "      <th>8943</th>\n",
       "      <td>C19184</td>\n",
       "      <td>5.871712</td>\n",
       "      <td>0.500000</td>\n",
       "      <td>20.90</td>\n",
       "      <td>20.90</td>\n",
       "      <td>0.00</td>\n",
       "      <td>0.000000</td>\n",
       "      <td>0.166667</td>\n",
       "      <td>0.166667</td>\n",
       "      <td>0.000000</td>\n",
       "      <td>0.000000</td>\n",
       "      <td>0</td>\n",
       "      <td>1</td>\n",
       "      <td>500.0</td>\n",
       "      <td>58.644883</td>\n",
       "      <td>43.473717</td>\n",
       "      <td>0.000000</td>\n",
       "      <td>6</td>\n",
       "    </tr>\n",
       "    <tr>\n",
       "      <th>8945</th>\n",
       "      <td>C19186</td>\n",
       "      <td>28.493517</td>\n",
       "      <td>1.000000</td>\n",
       "      <td>291.12</td>\n",
       "      <td>0.00</td>\n",
       "      <td>291.12</td>\n",
       "      <td>0.000000</td>\n",
       "      <td>1.000000</td>\n",
       "      <td>0.000000</td>\n",
       "      <td>0.833333</td>\n",
       "      <td>0.000000</td>\n",
       "      <td>0</td>\n",
       "      <td>6</td>\n",
       "      <td>1000.0</td>\n",
       "      <td>325.594462</td>\n",
       "      <td>48.886365</td>\n",
       "      <td>0.500000</td>\n",
       "      <td>6</td>\n",
       "    </tr>\n",
       "    <tr>\n",
       "      <th>8947</th>\n",
       "      <td>C19188</td>\n",
       "      <td>23.398673</td>\n",
       "      <td>0.833333</td>\n",
       "      <td>144.40</td>\n",
       "      <td>0.00</td>\n",
       "      <td>144.40</td>\n",
       "      <td>0.000000</td>\n",
       "      <td>0.833333</td>\n",
       "      <td>0.000000</td>\n",
       "      <td>0.666667</td>\n",
       "      <td>0.000000</td>\n",
       "      <td>0</td>\n",
       "      <td>5</td>\n",
       "      <td>1000.0</td>\n",
       "      <td>81.270775</td>\n",
       "      <td>82.418369</td>\n",
       "      <td>0.250000</td>\n",
       "      <td>6</td>\n",
       "    </tr>\n",
       "    <tr>\n",
       "      <th>8948</th>\n",
       "      <td>C19189</td>\n",
       "      <td>13.457564</td>\n",
       "      <td>0.833333</td>\n",
       "      <td>0.00</td>\n",
       "      <td>0.00</td>\n",
       "      <td>0.00</td>\n",
       "      <td>36.558778</td>\n",
       "      <td>0.000000</td>\n",
       "      <td>0.000000</td>\n",
       "      <td>0.000000</td>\n",
       "      <td>0.166667</td>\n",
       "      <td>2</td>\n",
       "      <td>0</td>\n",
       "      <td>500.0</td>\n",
       "      <td>52.549959</td>\n",
       "      <td>55.755628</td>\n",
       "      <td>0.250000</td>\n",
       "      <td>6</td>\n",
       "    </tr>\n",
       "    <tr>\n",
       "      <th>8949</th>\n",
       "      <td>C19190</td>\n",
       "      <td>372.708075</td>\n",
       "      <td>0.666667</td>\n",
       "      <td>1093.25</td>\n",
       "      <td>1093.25</td>\n",
       "      <td>0.00</td>\n",
       "      <td>127.040008</td>\n",
       "      <td>0.666667</td>\n",
       "      <td>0.666667</td>\n",
       "      <td>0.000000</td>\n",
       "      <td>0.333333</td>\n",
       "      <td>2</td>\n",
       "      <td>23</td>\n",
       "      <td>1200.0</td>\n",
       "      <td>63.165404</td>\n",
       "      <td>88.288956</td>\n",
       "      <td>0.000000</td>\n",
       "      <td>6</td>\n",
       "    </tr>\n",
       "  </tbody>\n",
       "</table>\n",
       "<p>8636 rows × 18 columns</p>\n",
       "</div>"
      ],
      "text/plain": [
       "     CUST_ID      BALANCE  BALANCE_FREQUENCY  PURCHASES  ONEOFF_PURCHASES  \\\n",
       "0     C10001    40.900749           0.818182      95.40              0.00   \n",
       "1     C10002  3202.467416           0.909091       0.00              0.00   \n",
       "2     C10003  2495.148862           1.000000     773.17            773.17   \n",
       "4     C10005   817.714335           1.000000      16.00             16.00   \n",
       "5     C10006  1809.828751           1.000000    1333.28              0.00   \n",
       "...      ...          ...                ...        ...               ...   \n",
       "8943  C19184     5.871712           0.500000      20.90             20.90   \n",
       "8945  C19186    28.493517           1.000000     291.12              0.00   \n",
       "8947  C19188    23.398673           0.833333     144.40              0.00   \n",
       "8948  C19189    13.457564           0.833333       0.00              0.00   \n",
       "8949  C19190   372.708075           0.666667    1093.25           1093.25   \n",
       "\n",
       "      INSTALLMENTS_PURCHASES  CASH_ADVANCE  PURCHASES_FREQUENCY  \\\n",
       "0                      95.40      0.000000             0.166667   \n",
       "1                       0.00   6442.945483             0.000000   \n",
       "2                       0.00      0.000000             1.000000   \n",
       "4                       0.00      0.000000             0.083333   \n",
       "5                    1333.28      0.000000             0.666667   \n",
       "...                      ...           ...                  ...   \n",
       "8943                    0.00      0.000000             0.166667   \n",
       "8945                  291.12      0.000000             1.000000   \n",
       "8947                  144.40      0.000000             0.833333   \n",
       "8948                    0.00     36.558778             0.000000   \n",
       "8949                    0.00    127.040008             0.666667   \n",
       "\n",
       "      ONEOFF_PURCHASES_FREQUENCY  PURCHASES_INSTALLMENTS_FREQUENCY  \\\n",
       "0                       0.000000                          0.083333   \n",
       "1                       0.000000                          0.000000   \n",
       "2                       1.000000                          0.000000   \n",
       "4                       0.083333                          0.000000   \n",
       "5                       0.000000                          0.583333   \n",
       "...                          ...                               ...   \n",
       "8943                    0.166667                          0.000000   \n",
       "8945                    0.000000                          0.833333   \n",
       "8947                    0.000000                          0.666667   \n",
       "8948                    0.000000                          0.000000   \n",
       "8949                    0.666667                          0.000000   \n",
       "\n",
       "      CASH_ADVANCE_FREQUENCY  CASH_ADVANCE_TRX  PURCHASES_TRX  CREDIT_LIMIT  \\\n",
       "0                   0.000000                 0              2        1000.0   \n",
       "1                   0.250000                 4              0        7000.0   \n",
       "2                   0.000000                 0             12        7500.0   \n",
       "4                   0.000000                 0              1        1200.0   \n",
       "5                   0.000000                 0              8        1800.0   \n",
       "...                      ...               ...            ...           ...   \n",
       "8943                0.000000                 0              1         500.0   \n",
       "8945                0.000000                 0              6        1000.0   \n",
       "8947                0.000000                 0              5        1000.0   \n",
       "8948                0.166667                 2              0         500.0   \n",
       "8949                0.333333                 2             23        1200.0   \n",
       "\n",
       "         PAYMENTS  MINIMUM_PAYMENTS  PRC_FULL_PAYMENT  TENURE  \n",
       "0      201.802084        139.509787          0.000000      12  \n",
       "1     4103.032597       1072.340217          0.222222      12  \n",
       "2      622.066742        627.284787          0.000000      12  \n",
       "4      678.334763        244.791237          0.000000      12  \n",
       "5     1400.057770       2407.246035          0.000000      12  \n",
       "...           ...               ...               ...     ...  \n",
       "8943    58.644883         43.473717          0.000000       6  \n",
       "8945   325.594462         48.886365          0.500000       6  \n",
       "8947    81.270775         82.418369          0.250000       6  \n",
       "8948    52.549959         55.755628          0.250000       6  \n",
       "8949    63.165404         88.288956          0.000000       6  \n",
       "\n",
       "[8636 rows x 18 columns]"
      ]
     },
     "execution_count": 2,
     "metadata": {},
     "output_type": "execute_result"
    }
   ],
   "source": [
    "dataset = pd.read_csv('CC GENERAL.csv')\n",
    "dataset.dropna(inplace=True)\n",
    "dataset"
   ]
  },
  {
   "cell_type": "code",
   "execution_count": 3,
   "id": "5789a1d3",
   "metadata": {
    "scrolled": false
   },
   "outputs": [
    {
     "data": {
      "text/plain": [
       "CUST_ID                             0\n",
       "BALANCE                             0\n",
       "BALANCE_FREQUENCY                   0\n",
       "PURCHASES                           0\n",
       "ONEOFF_PURCHASES                    0\n",
       "INSTALLMENTS_PURCHASES              0\n",
       "CASH_ADVANCE                        0\n",
       "PURCHASES_FREQUENCY                 0\n",
       "ONEOFF_PURCHASES_FREQUENCY          0\n",
       "PURCHASES_INSTALLMENTS_FREQUENCY    0\n",
       "CASH_ADVANCE_FREQUENCY              0\n",
       "CASH_ADVANCE_TRX                    0\n",
       "PURCHASES_TRX                       0\n",
       "CREDIT_LIMIT                        0\n",
       "PAYMENTS                            0\n",
       "MINIMUM_PAYMENTS                    0\n",
       "PRC_FULL_PAYMENT                    0\n",
       "TENURE                              0\n",
       "dtype: int64"
      ]
     },
     "execution_count": 3,
     "metadata": {},
     "output_type": "execute_result"
    }
   ],
   "source": [
    "dataset.isnull().sum()"
   ]
  },
  {
   "cell_type": "code",
   "execution_count": 4,
   "id": "b1a6abfc",
   "metadata": {},
   "outputs": [
    {
     "name": "stderr",
     "output_type": "stream",
     "text": [
      "D:\\Users\\Legion\\anaconda3\\lib\\site-packages\\seaborn\\distributions.py:2619: FutureWarning: `distplot` is a deprecated function and will be removed in a future version. Please adapt your code to use either `displot` (a figure-level function with similar flexibility) or `histplot` (an axes-level function for histograms).\n",
      "  warnings.warn(msg, FutureWarning)\n"
     ]
    },
    {
     "data": {
      "text/plain": [
       "<Axes: xlabel='BALANCE', ylabel='Density'>"
      ]
     },
     "execution_count": 4,
     "metadata": {},
     "output_type": "execute_result"
    },
    {
     "data": {
      "image/png": "[encoded data removed]",
      "text/plain": [
       "<Figure size 432x288 with 1 Axes>"
      ]
     },
     "metadata": {
      "needs_background": "light"
     },
     "output_type": "display_data"
    }
   ],
   "source": [
    "sns.distplot(dataset[\"BALANCE\"])"
   ]
  },
  {
   "cell_type": "code",
   "execution_count": 5,
   "id": "d23fb9e3",
   "metadata": {
    "scrolled": true
   },
   "outputs": [
    {
     "name": "stderr",
     "output_type": "stream",
     "text": [
      "D:\\Users\\Legion\\anaconda3\\lib\\site-packages\\seaborn\\_decorators.py:36: FutureWarning: Pass the following variable as a keyword arg: x. From version 0.12, the only valid positional argument will be `data`, and passing other arguments without an explicit keyword will result in an error or misinterpretation.\n",
      "  warnings.warn(\n"
     ]
    },
    {
     "data": {
      "text/plain": [
       "<Axes: xlabel='BALANCE'>"
      ]
     },
     "execution_count": 5,
     "metadata": {},
     "output_type": "execute_result"
    },
    {
     "data": {
      "image/png": "[encoded data removed]",
      "text/plain": [
       "<Figure size 432x288 with 1 Axes>"
      ]
     },
     "metadata": {
      "needs_background": "light"
     },
     "output_type": "display_data"
    }
   ],
   "source": [
    "sns.boxplot(dataset['BALANCE'], orient='h')"
   ]
  },
  {
   "cell_type": "code",
   "execution_count": 6,
   "id": "6508f264",
   "metadata": {},
   "outputs": [
    {
     "data": {
      "text/plain": [
       "array([[  40.900749,   95.4     ],\n",
       "       [3202.467416,    0.      ],\n",
       "       [2495.148862,  773.17    ],\n",
       "       ...,\n",
       "       [  23.398673,  144.4     ],\n",
       "       [  13.457564,    0.      ],\n",
       "       [ 372.708075, 1093.25    ]])"
      ]
     },
     "execution_count": 6,
     "metadata": {},
     "output_type": "execute_result"
    }
   ],
   "source": [
    "X = dataset.iloc[:, [1, 3]].values\n",
    "X"
   ]
  },
  {
   "cell_type": "code",
   "execution_count": 7,
   "id": "0fa78d7a",
   "metadata": {
    "scrolled": true
   },
   "outputs": [
    {
     "data": {
      "image/png": "[encoded data removed]",
      "text/plain": [
       "<Figure size 432x288 with 1 Axes>"
      ]
     },
     "metadata": {
      "needs_background": "light"
     },
     "output_type": "display_data"
    }
   ],
   "source": [
    "from sklearn.cluster import KMeans\n",
    "wcss = []\n",
    "for i in range(1, 11):\n",
    "    kmeans = KMeans(n_clusters = i, init ='k-means++', random_state = 42)\n",
    "    kmeans.fit(X)\n",
    "    wcss.append(kmeans.inertia_)\n",
    "#kmeans inertia_ attribute is:  Sum of squared distances of samples #to their closest cluster center.\n",
    "plt.plot(range(1, 11), wcss)\n",
    "plt.title('The Elbow Method')\n",
    "plt.xlabel('Number of clusters')\n",
    "plt.ylabel('WCSS')\n",
    "plt.show()"
   ]
  },
  {
   "cell_type": "code",
   "execution_count": 8,
   "id": "a369cd56",
   "metadata": {},
   "outputs": [],
   "source": [
    "kmeans = KMeans(n_clusters = 4, init = 'k-means++', random_state = 42)\n",
    "y_kmeans = kmeans.fit_predict(X)"
   ]
  },
  {
   "cell_type": "code",
   "execution_count": 9,
   "id": "f528e97d",
   "metadata": {},
   "outputs": [
    {
     "data": {
      "text/plain": [
       "array([1, 1, 1, ..., 1, 1, 1])"
      ]
     },
     "execution_count": 9,
     "metadata": {},
     "output_type": "execute_result"
    }
   ],
   "source": [
    "y_kmeans"
   ]
  },
  {
   "cell_type": "code",
   "execution_count": 10,
   "id": "a14830f3",
   "metadata": {},
   "outputs": [
    {
     "data": {
      "text/plain": [
       "[array([False, False, False, ..., False, False, False]), 0]"
      ]
     },
     "execution_count": 10,
     "metadata": {},
     "output_type": "execute_result"
    }
   ],
   "source": [
    "[y_kmeans == 0,0]"
   ]
  },
  {
   "cell_type": "code",
   "execution_count": 11,
   "id": "8404127b",
   "metadata": {
    "scrolled": false
   },
   "outputs": [
    {
     "data": {
      "text/plain": [
       "550    49039.57\n",
       "Name: PURCHASES, dtype: float64"
      ]
     },
     "execution_count": 11,
     "metadata": {},
     "output_type": "execute_result"
    }
   ],
   "source": [
    "dataset['PURCHASES'][dataset['PURCHASES'] > 49000]"
   ]
  },
  {
   "cell_type": "code",
   "execution_count": 12,
   "id": "03ba660c",
   "metadata": {
    "scrolled": true
   },
   "outputs": [
    {
     "data": {
      "text/plain": [
       "array([40.900749, 95.4     ])"
      ]
     },
     "execution_count": 12,
     "metadata": {},
     "output_type": "execute_result"
    }
   ],
   "source": [
    "X[0]"
   ]
  },
  {
   "cell_type": "code",
   "execution_count": 13,
   "id": "2f965073",
   "metadata": {
    "scrolled": true
   },
   "outputs": [
    {
     "data": {
      "image/png": "[encoded data removed]",
      "text/plain": [
       "<Figure size 432x288 with 1 Axes>"
      ]
     },
     "metadata": {
      "needs_background": "light"
     },
     "output_type": "display_data"
    }
   ],
   "source": [
    "plt.scatter(X[y_kmeans == 0, 0], X[y_kmeans == 0, 1], s = 100, c = 'red', label = 'Cluster 1')\n",
    "plt.scatter(X[y_kmeans == 1, 0], X[y_kmeans == 1, 1], s = 100, c = 'blue', label = 'Cluster 2')\n",
    "plt.scatter(X[y_kmeans == 2, 0], X[y_kmeans == 2, 1], s = 100, c = 'green', label = 'Cluster 3')\n",
    "plt.scatter(X[y_kmeans == 3, 0], X[y_kmeans == 3, 1], s = 100, c = 'cyan', label = 'Cluster 4')\n",
    "\n",
    "\n",
    "plt.scatter(kmeans.cluster_centers_[:, 0], kmeans.cluster_centers_[:, 1], s = 200, c = 'yellow', label = 'Centroids')\n",
    "plt.title('Clusters of customers')\n",
    "plt.xlabel('Balance')\n",
    "plt.ylabel('Purchases')\n",
    "plt.legend()\n",
    "plt.show()"
   ]
  }
 ],
 "metadata": {
  "kernelspec": {
   "display_name": "Python 3 (ipykernel)",
   "language": "python",
   "name": "python3"
  },
  "language_info": {
   "codemirror_mode": {
    "name": "ipython",
    "version": 3
   },
   "file_extension": ".py",
   "mimetype": "text/x-python",
   "name": "python",
   "nbconvert_exporter": "python",
   "pygments_lexer": "ipython3",
   "version": "3.9.7"
  }
 },
 "nbformat": 4,
 "nbformat_minor": 5
}
